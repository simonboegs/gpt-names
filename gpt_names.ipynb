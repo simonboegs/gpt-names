{
  "nbformat": 4,
  "nbformat_minor": 0,
  "metadata": {
    "colab": {
      "provenance": []
    },
    "kernelspec": {
      "name": "python3",
      "display_name": "Python 3"
    },
    "language_info": {
      "name": "python"
    },
    "accelerator": "GPU",
    "gpuClass": "standard"
  },
  "cells": [
    {
      "cell_type": "markdown",
      "source": [
        "# Character-level Language Model for Name Generation\n",
        "Hello, welcome to my first transformer, a character level language model that generates names. It took me ~1.5 months of off-and-on work to make it happen.\n",
        "\n",
        "At a high level, the model is tasked with predicting the next character in a name. Once it can do this, we can sample letters from the model one after the other and generate new names.\n",
        "\n",
        "The dataset consists of 32033 names. I got the idea for this and the dataset from Andrej Karpathy's youtube tutorials which I found helpful. However, I want to make clear that I did this BEFORE he released his \"GPT-style\" tutorial (in which he does a project similar to this one)!!\n",
        "\n",
        "Key takeways from the project\n",
        "- ML models are hard to debug. The whole thing can run perfectly (no runtime errors) and still be wrong in many places. Make sure to start with the simplest model and the simplest dataset and scale up from there to ensure the whole thing works properly.\n",
        "- ML models can be conceptually complicated while not requiring many lines of code. I tried to understand every part of the model before writing any code by writing some textbook-style explanations for myself. I took many breaks from the project (finals, winter break was happening) and constantly had to refer to my notes to remind myself of conceptual things and double check if my code was doing what it was supposed to. I would definitely recommend this.\n",
        "- Torch's tensor operations were uncomfortable to use at first but I started to get the hang of it. I tried hard to avoid \"for\" loops when debugging or doing anything in favor of tensor operations. \".view()\" is incredibly useful.\n",
        "- Torch's Cross Entropy Loss calculation is weird"
      ],
      "metadata": {
        "id": "8leHrXwvlhfg"
      }
    },
    {
      "cell_type": "markdown",
      "source": [
        "Basic imports, setting the device to use the gpu if possible."
      ],
      "metadata": {
        "id": "ftnBdbX0mBTn"
      }
    },
    {
      "cell_type": "code",
      "execution_count": 1,
      "metadata": {
        "id": "cyy7tulip92F",
        "colab": {
          "base_uri": "https://localhost:8080/",
          "height": 35
        },
        "outputId": "0162d38e-5ee9-4359-dfa9-67e81bef76b3"
      },
      "outputs": [
        {
          "output_type": "execute_result",
          "data": {
            "text/plain": [
              "'Tesla T4'"
            ],
            "application/vnd.google.colaboratory.intrinsic+json": {
              "type": "string"
            }
          },
          "metadata": {},
          "execution_count": 1
        }
      ],
      "source": [
        "import torch\n",
        "import numpy as np\n",
        "import matplotlib.pyplot as plt\n",
        "\n",
        "if torch.cuda.is_available():\n",
        "  device = torch.device(\"cuda\") \n",
        "else:\n",
        "  device = \"cpu\"\n",
        "torch.cuda.get_device_name(device)"
      ]
    },
    {
      "cell_type": "markdown",
      "source": [
        "Fetch Andrej Karpathy's names dataset."
      ],
      "metadata": {
        "id": "BCMlzv7rmKfH"
      }
    },
    {
      "cell_type": "code",
      "source": [
        "!wget https://raw.githubusercontent.com/karpathy/makemore/master/names.txt"
      ],
      "metadata": {
        "colab": {
          "base_uri": "https://localhost:8080/"
        },
        "id": "hnejynNguHcj",
        "outputId": "a31fd6bc-58e9-4586-8bc1-edd0526d4dd3"
      },
      "execution_count": 2,
      "outputs": [
        {
          "output_type": "stream",
          "name": "stdout",
          "text": [
            "--2023-01-20 23:42:03--  https://raw.githubusercontent.com/karpathy/makemore/master/names.txt\n",
            "Resolving raw.githubusercontent.com (raw.githubusercontent.com)... 185.199.108.133, 185.199.111.133, 185.199.110.133, ...\n",
            "Connecting to raw.githubusercontent.com (raw.githubusercontent.com)|185.199.108.133|:443... connected.\n",
            "HTTP request sent, awaiting response... 200 OK\n",
            "Length: 228145 (223K) [text/plain]\n",
            "Saving to: ‘names.txt’\n",
            "\n",
            "names.txt           100%[===================>] 222.80K  --.-KB/s    in 0.03s   \n",
            "\n",
            "2023-01-20 23:42:03 (8.57 MB/s) - ‘names.txt’ saved [228145/228145]\n",
            "\n"
          ]
        }
      ]
    },
    {
      "cell_type": "markdown",
      "source": [
        "Self attention layer implementations. I implemented a single-headed and multi-headed version, but only the multi-headed attention is used in the decoder.\n",
        "\n",
        "The attention layers were the hardest to get right. At times the attention mechanism was privy to the information of the following characters in the sequence, which resulted in a model that could achieve very low loss while not being able to generate good names."
      ],
      "metadata": {
        "id": "xTLn1TTZrg-D"
      }
    },
    {
      "cell_type": "code",
      "source": [
        "class SingleHeadAttention(torch.nn.Module):\n",
        "  def __init__(self, model_dim, masked=False):\n",
        "    super().__init__()\n",
        "    self.model_dim = model_dim\n",
        "    self.mask = masked\n",
        "\n",
        "    # query, key, and value matrices. in the form of torch Linear layers\n",
        "    self.QW = torch.nn.Linear(model_dim, model_dim, bias=False)\n",
        "    self.KW = torch.nn.Linear(model_dim, model_dim, bias=False)\n",
        "    self.VW = torch.nn.Linear(model_dim, model_dim, bias=False)\n",
        "\n",
        "  def init_weights(self):\n",
        "    torch.nn.init.xavier_uniform_(self.QW.weight)\n",
        "    torch.nn.init.xavier_uniform_(self.KW.weight)\n",
        "    torch.nn.init.xavier_uniform_(self.VW.weight)\n",
        "\n",
        "  def forward(self, X):\n",
        "    # X has shape (batch size, seqence len, model dim)\n",
        "    Q = self.QW(X)\n",
        "    K = self.KW(X)\n",
        "    V = self.VW(X)\n",
        "    \n",
        "    # flip the last 2 dimensions \n",
        "    K_transpose = torch.transpose(K, 1, 2)\n",
        "\n",
        "    score = (Q @ K_transpose) / np.sqrt(self.model_dim)\n",
        "\n",
        "    if self.masked: \n",
        "      neg_inf = torch.full(size=score.size(), fill_value=-float(\"inf\")).to(device)\n",
        "      mask = torch.triu(neg_inf, diagonal=1).to(device)\n",
        "      score += mask\n",
        "\n",
        "    softmax = torch.nn.Softmax(dim=2)\n",
        "    score_softmax = softmax(score)\n",
        "\n",
        "    Z = score_softmax @ V\n",
        "    return Z\n",
        "\n",
        "class MultiHeadAttention(torch.nn.Module):\n",
        "  def __init__(self, model_dim, heads, masked=False):\n",
        "    super().__init__()\n",
        "    self.model_dim = model_dim\n",
        "    self.QW = torch.nn.Linear(model_dim, model_dim, bias=False)\n",
        "    self.KW = torch.nn.Linear(model_dim, model_dim, bias=False)\n",
        "    self.VW = torch.nn.Linear(model_dim, model_dim, bias=False)\n",
        "    self.proj = torch.nn.Linear(model_dim, model_dim, bias=False)\n",
        "    self.heads = heads \n",
        "    self.masked = masked\n",
        "\n",
        "  def init_weights(self):\n",
        "    torch.nn.init.xavier_uniform_(self.QW.weight)\n",
        "    torch.nn.init.xavier_uniform_(self.KW.weight)\n",
        "    torch.nn.init.xavier_uniform_(self.VW.weight)\n",
        "    torch.nn.init.xavier_uniform_(self.proj.weight)\n",
        "  \n",
        "  def forward(self, X, X_enc=None):\n",
        "    Q = self.QW(X)\n",
        "\n",
        "    if X_enc is not None:\n",
        "      K = self.KW(X_enc)\n",
        "      V = self.VW(X_enc)\n",
        "    else:\n",
        "      K = self.KW(X)\n",
        "      V = self.VW(X)\n",
        "\n",
        "    # partition and reshape matrices based on heads\n",
        "    # how does this work with masking?\n",
        "    partition_len = int(self.model_dim / self.heads)\n",
        "    batch_size = Q.size()[0]\n",
        "    seq_len = Q.size()[1]\n",
        "    # partitian last dimension into 2\n",
        "    # stick remaining dimensionality into 2nd dimension\n",
        "    # transpose so that 2nd dimension is heads\n",
        "    Q = Q.view(batch_size, -1, self.heads, partition_len).transpose(1,2)\n",
        "    K = K.view(batch_size, -1, self.heads, partition_len).transpose(1,2)\n",
        "    V = V.view(batch_size, -1, self.heads, partition_len).transpose(1,2)\n",
        "\n",
        "    # matmul will \"broadcast\" batch and head dimensions\n",
        "    score = Q @ torch.transpose(K, 2, 3) / np.sqrt(self.model_dim)\n",
        "    if self.masked: \n",
        "      neg_inf = torch.full(size=score.size(), fill_value=-float(\"inf\")).to(device)\n",
        "      mask = torch.triu(neg_inf, diagonal=1).to(device)\n",
        "      score += mask\n",
        "\n",
        "    softmax = torch.nn.Softmax(dim=3)\n",
        "    score_softmax = softmax(score)\n",
        "    \n",
        "    Z = score_softmax @ V\n",
        "\n",
        "    # undo partition\n",
        "    Z = Z.transpose(1, 2).reshape(batch_size, -1, self.model_dim) \n",
        "    # final matrix multiplication, \"projection\"\n",
        "    return self.proj(Z)\n",
        "\n",
        "    # residual connection is handled in sublayer class"
      ],
      "metadata": {
        "id": "YhRoqpL-rVuK"
      },
      "execution_count": 9,
      "outputs": []
    },
    {
      "cell_type": "markdown",
      "source": [
        "Positional embedding layer. It adjusts the input embeddings in a sequence to add positional information using a certain function."
      ],
      "metadata": {
        "id": "JpBNQKqNsdh-"
      }
    },
    {
      "cell_type": "code",
      "source": [
        "class PositionEmbedding(torch.nn.Module): \n",
        "  def __init__(self, max_size=10000):\n",
        "    super().__init__()\n",
        "    self.max_size = max_size\n",
        "        \n",
        "  def forward(self, X):\n",
        "    seq_len = X.size(dim=1)\n",
        "    model_dim = X.size(dim=2)\n",
        "    # self.pos_embed = np.array(shape=(seq_len, model_dim))\n",
        "    pos_embed = torch.zeros(size=(seq_len, model_dim)).to(device)\n",
        "    for pos in range(seq_len):\n",
        "      for i in range(model_dim):\n",
        "        pos_embed[pos][i] = np.sin( pos / ( self.max_size**( 2*i / model_dim ) ) )\n",
        "    return X + pos_embed"
      ],
      "metadata": {
        "id": "s92Ju-TVfQ7O"
      },
      "execution_count": 4,
      "outputs": []
    },
    {
      "cell_type": "markdown",
      "source": [
        "Here we construct the datasets and dataloaders using torch."
      ],
      "metadata": {
        "id": "U6DlbbXjs6Qs"
      }
    },
    {
      "cell_type": "code",
      "source": [
        "import random\n",
        "val_set_size = int(.1 * 32000)\n",
        "\n",
        "class Vocab():\n",
        "  def __init__(self, end_token=\".\", pad_token=\"#\"): \n",
        "    # end token and start token are the same.\n",
        "    self.end_token = end_token\n",
        "    self.pad_token = pad_token\n",
        "\n",
        "    words = open(\"names.txt\",\"r\").read().splitlines()\n",
        "    chars = sorted(list(set(\"\".join(words))))\n",
        "\n",
        "    self.end_token_idx = len(chars)\n",
        "    self.pad_token_idx = len(chars) + 1\n",
        "\n",
        "    # maps characters to indices\n",
        "    self.stoi = {s:i for i,s in enumerate(chars)}\n",
        "    self.stoi[end_token] = self.end_token_idx\n",
        "    self.stoi[pad_token] = self.pad_token_idx\n",
        "\n",
        "    # maps indices to characters\n",
        "    self.itos = {i:s for s,i in self.stoi.items()}\n",
        "  \n",
        "  def __len__(self):\n",
        "    return len(self.stoi) \n",
        "\n",
        "vocab = Vocab()\n",
        "\n",
        "class Names(torch.utils.data.Dataset):\n",
        "  def __init__(self, train=True):\n",
        "    self.words = open(\"names.txt\",\"r\").read().splitlines()\n",
        "    random.shuffle(self.words)\n",
        "    if train:\n",
        "      self.words = self.words[:-1*val_set_size]\n",
        "    else:\n",
        "      self.words = self.words[-1*val_set_size:]\n",
        "  \n",
        "  def __len__(self):\n",
        "    return len(self.words)\n",
        "  \n",
        "  def __getitem__(self, idx):\n",
        "    word = self.words[idx]\n",
        "    return [vocab.end_token_idx] + [vocab.stoi[i] for i in word] + [vocab.end_token_idx]\n",
        "\n",
        "dataset_tr = Names(train=True)\n",
        "dataset_val = Names(train=False)\n",
        "print(f\"train set len: {len(dataset_tr)}\")\n",
        "print(f\"val set len: {len(dataset_val)}\")\n",
        "\n",
        "# just pads all sequences in batch to same length. \n",
        "# future: put small w small, large w large to minimize padding\n",
        "def collate_fn(batch):\n",
        "  max_len = max([len(seq) for seq in batch])\n",
        "  for i in range(len(batch)):\n",
        "    batch[i] += [vocab.pad_token_idx] * (max_len - len(batch[i]))\n",
        "  \n",
        "  return torch.tensor(batch)\n",
        "\n",
        "dataloader_tr = torch.utils.data.DataLoader(\n",
        "    dataset_tr, \n",
        "    batch_size=64,\n",
        "    shuffle=True,\n",
        "    collate_fn=collate_fn,\n",
        "  )\n",
        "dataloader_val = torch.utils.data.DataLoader(\n",
        "    dataset_val, \n",
        "    batch_size=64,\n",
        "    shuffle=True,\n",
        "    collate_fn=collate_fn,\n",
        "  )"
      ],
      "metadata": {
        "id": "WPlELzZtuUFI",
        "colab": {
          "base_uri": "https://localhost:8080/"
        },
        "outputId": "9b949ab5-1951-4830-b618-c55e05234a5c"
      },
      "execution_count": 10,
      "outputs": [
        {
          "output_type": "stream",
          "name": "stdout",
          "text": [
            "train set len: 28833\n",
            "val set len: 3200\n"
          ]
        }
      ]
    },
    {
      "cell_type": "markdown",
      "source": [
        "Decoder and its building blocks called \"sublayers.\""
      ],
      "metadata": {
        "id": "bUz1-uckvvJE"
      }
    },
    {
      "cell_type": "code",
      "source": [
        "#GPT-style decoder only tranformer architecture\n",
        "\n",
        "class DecoderOnlySubLayer(torch.nn.Module):\n",
        "  def __init__(self, model_dim, vocab_size, num_heads):\n",
        "    super().__init__()\n",
        "    self.model_dim = model_dim\n",
        "    self.vocab_size = vocab_size\n",
        "\n",
        "\n",
        "    # masked self attention\n",
        "    self.attn = MultiHeadAttention(model_dim, num_heads, masked=True)\n",
        "    self.norm1 = torch.nn.LayerNorm(model_dim)\n",
        "\n",
        "    # feed forward\n",
        "    ff_dim = 4 * model_dim # read that this was good setting\n",
        "    self.ff1 = torch.nn.Linear(model_dim, ff_dim)\n",
        "    # can use either one\n",
        "    self.tanh = torch.nn.Tanh()\n",
        "    self.relu = torch.nn.ReLU()\n",
        "    self.ff2 = torch.nn.Linear(ff_dim, model_dim)\n",
        "    self.norm2 = torch.nn.LayerNorm(model_dim)\n",
        "\n",
        "  def forward(self, X):\n",
        "    # X is shape (batch size, sequence length, model_dim)\n",
        "    # self attention\n",
        "    attn_out = self.attn(X)\n",
        "    attn_out_normed = self.norm1(attn_out + X)\n",
        "\n",
        "    # feed forward\n",
        "    ff1_preact = self.ff1(attn_out_normed)\n",
        "    ff1_out = self.tanh(ff1_preact)\n",
        "    ff2_out = self.ff2(ff1_out)\n",
        "    ff2_out_normed = self.norm2(ff2_out + attn_out_normed)\n",
        "    return ff2_out_normed\n",
        "  \n",
        "  # initialization could be slightly improved using Kaiming initialization intead of Xavier\n",
        "  def init_weights(self):\n",
        "    self.attn.init_weights()\n",
        "    torch.nn.init.xavier_uniform_(self.ff1.weight)\n",
        "    torch.nn.init.zeros_(self.ff1.bias)\n",
        "    torch.nn.init.xavier_uniform_(self.ff2.weight)\n",
        "    torch.nn.init.zeros_(self.ff2.bias)\n",
        "    torch.nn.init.ones_(self.norm1.weight)\n",
        "    torch.nn.init.zeros_(self.norm1.bias)\n",
        "    torch.nn.init.ones_(self.norm2.weight)\n",
        "    torch.nn.init.zeros_(self.norm2.bias)\n",
        "\n",
        "class DecoderOnly(torch.nn.Module):\n",
        "  def __init__(self, model_dim, vocab_size, num_sublayers, num_heads):\n",
        "    super().__init__()\n",
        "    # this layer projects one hot encoded vectors of length=vocab_size to embeddings of length=model_dim.\n",
        "    self.linear_embed = torch.nn.Linear(vocab_size, model_dim)\n",
        "    self.pos_encode = PositionEmbedding()\n",
        "    self.sublayers = torch.nn.ModuleList([DecoderOnlySubLayer(model_dim, vocab_size, num_heads) for _ in range(num_sublayers)])\n",
        "    self.linear_out = torch.nn.Linear(model_dim, vocab_size)\n",
        "\n",
        "  def forward(self, X):\n",
        "    X_embed = self.linear_embed(X)\n",
        "    X_pos_encoded = self.pos_encode(X_embed)\n",
        "\n",
        "    sublayer_out = X_pos_encoded\n",
        "    for sublayer in self.sublayers:\n",
        "      sublayer_out = sublayer(sublayer_out)\n",
        "\n",
        "    logits = self.linear_out(sublayer_out)\n",
        "    return logits\n",
        "\n",
        "  def init_weights(self):\n",
        "    torch.nn.init.xavier_uniform_(self.linear_embed.weight)\n",
        "    torch.nn.init.zeros_(self.linear_embed.bias)\n",
        "    [sublayer.init_weights() for sublayer in self.sublayers]\n",
        "    torch.nn.init.xavier_uniform_(self.linear_out.weight)\n",
        "    torch.nn.init.zeros_(self.linear_out.bias)\n"
      ],
      "metadata": {
        "id": "zwJXjSbriid6"
      },
      "execution_count": 11,
      "outputs": []
    },
    {
      "cell_type": "code",
      "source": [
        "# model params\n",
        "model_dim = 32 \n",
        "num_sublayers = 4\n",
        "num_heads = 8\n",
        "\n",
        "# training params\n",
        "lr = .03\n",
        "epochs = 50\n",
        "\n",
        "model = DecoderOnly(model_dim, len(vocab), num_sublayers, num_heads).to(device)\n",
        "model.init_weights()\n",
        "\n",
        "CE_loss = torch.nn.CrossEntropyLoss(ignore_index=vocab.pad_token_idx, reduction=\"mean\").to(device)\n",
        "optimizer = torch.optim.SGD(model.parameters(), lr=lr)\n",
        "\n",
        "losses = []\n",
        "for epoch in range(epochs):\n",
        "  losses_running_tr = []\n",
        "  for batch_idx, batch in enumerate(dataloader_tr):\n",
        "    # wtf does this do again?\n",
        "    optimizer.zero_grad()\n",
        "\n",
        "    # create one hot encodings from indices and chop off last character in each sequence (we can't predict past the last character)\n",
        "    \n",
        "    X = torch.nn.functional.one_hot(batch[:,:-1],num_classes=len(vocab)).float().to(device)\n",
        "\n",
        "    # chop off first character in each sequence (the targets provide the correct character to be predicted.)\n",
        "    Y = batch[:,1:].to(device)\n",
        "\n",
        "    logits = model(X)\n",
        "\n",
        "    # flatten everything for easy loss calculation (torch's CE loss implementation cannot handle such unflattened tensors)\n",
        "    # the actual loss is a mean of all loss values.\n",
        "    loss = CE_loss(logits.view(-1,len(vocab)), Y.view(-1))\n",
        "\n",
        "    loss.backward()\n",
        "    optimizer.step()\n",
        "\n",
        "    losses_running_tr.append(loss.item())\n",
        "\n",
        "  # ----------------------\n",
        "  # validation\n",
        "\n",
        "  losses_running_val = []\n",
        "  with torch.no_grad():\n",
        "    for batch_idx, batch in enumerate(dataloader_val):\n",
        "      X = torch.nn.functional.one_hot(batch[:,:-1],num_classes=len(vocab)).float().to(device)\n",
        "      Y = batch[:,1:].to(device)\n",
        "\n",
        "      logits = model(X)\n",
        "\n",
        "      loss = CE_loss(logits.view(-1,len(vocab)), Y.view(-1))\n",
        "\n",
        "      losses_running_val.append(loss.item())\n",
        "\n",
        "  losses.append((np.array(losses_running_tr).mean(),np.array(losses_running_val).mean()))  \n",
        "  \n",
        "  print(f\"epoch {epoch} {losses[-1]}\")\n",
        "\n",
        "plt.plot(losses)\n",
        "plt.legend((\"tr\",\"val\"))\n",
        "plt.title(\"loss over epochs\")\n",
        "plt.show()"
      ],
      "metadata": {
        "id": "IT1vnwTZrLsb",
        "colab": {
          "base_uri": "https://localhost:8080/",
          "height": 1000
        },
        "outputId": "daf4f296-ade4-4cd6-ef43-7d91c8276e96"
      },
      "execution_count": 12,
      "outputs": [
        {
          "output_type": "stream",
          "name": "stdout",
          "text": [
            "epoch 0 (2.5740370433240667, 2.428519649505615)\n",
            "epoch 1 (2.376777763641594, 2.3464225816726683)\n",
            "epoch 2 (2.3150112713519855, 2.299526195526123)\n",
            "epoch 3 (2.282283146999892, 2.282074251174927)\n",
            "epoch 4 (2.2598500119608946, 2.2607011508941652)\n",
            "epoch 5 (2.2428078492834933, 2.2371724462509155)\n",
            "epoch 6 (2.2276446866883406, 2.2380037450790407)\n",
            "epoch 7 (2.2156497147553775, 2.2281865072250366)\n",
            "epoch 8 (2.204743119935503, 2.223374948501587)\n",
            "epoch 9 (2.1945022521685074, 2.1873847389221193)\n",
            "epoch 10 (2.1854777373125707, 2.1992902517318726)\n",
            "epoch 11 (2.1773059785762543, 2.1858183002471923)\n",
            "epoch 12 (2.169878699034122, 2.167123007774353)\n",
            "epoch 13 (2.1628839816328163, 2.1612925052642824)\n",
            "epoch 14 (2.156178038294722, 2.150251703262329)\n",
            "epoch 15 (2.1500226341171436, 2.1561383056640624)\n",
            "epoch 16 (2.144694895543439, 2.1494831657409668)\n",
            "epoch 17 (2.1382485688922146, 2.1430498361587524)\n",
            "epoch 18 (2.1333945672422185, 2.1360157251358034)\n",
            "epoch 19 (2.1286525665524265, 2.131099810600281)\n",
            "epoch 20 (2.123892884032425, 2.120054988861084)\n",
            "epoch 21 (2.1186537877419043, 2.1304182028770446)\n",
            "epoch 22 (2.1143408421666554, 2.1389963674545287)\n",
            "epoch 23 (2.1098209601019544, 2.1143915271759033)\n",
            "epoch 24 (2.10601618892602, 2.103655045032501)\n",
            "epoch 25 (2.101751635185631, 2.1110088634490967)\n",
            "epoch 26 (2.096996283055409, 2.107467930316925)\n",
            "epoch 27 (2.0940054250662183, 2.101720538139343)\n",
            "epoch 28 (2.090011013585025, 2.096223604679108)\n",
            "epoch 29 (2.0866214758540997, 2.087390732765198)\n",
            "epoch 30 (2.0828649617087285, 2.09394832611084)\n",
            "epoch 31 (2.079672549886344, 2.087180552482605)\n",
            "epoch 32 (2.076104395141094, 2.080007050037384)\n",
            "epoch 33 (2.0727209421060566, 2.0898384141921995)\n",
            "epoch 34 (2.0693419436922094, 2.0830676460266115)\n",
            "epoch 35 (2.066679311433018, 2.0864744687080385)\n",
            "epoch 36 (2.06330083664135, 2.0646126317977904)\n",
            "epoch 37 (2.0604393714811744, 2.0623594903945923)\n",
            "epoch 38 (2.0573681859906654, 2.065574281215668)\n",
            "epoch 39 (2.0542041660676773, 2.054070544242859)\n",
            "epoch 40 (2.0517659398774613, 2.0621228075027465)\n",
            "epoch 41 (2.0481525371450013, 2.055637571811676)\n",
            "epoch 42 (2.045506594450669, 2.0589662098884585)\n",
            "epoch 43 (2.0431276956312936, 2.054117639064789)\n",
            "epoch 44 (2.040017942102944, 2.050901837348938)\n",
            "epoch 45 (2.0377546234300024, 2.048676173686981)\n",
            "epoch 46 (2.034493603621777, 2.0383567786216736)\n",
            "epoch 47 (2.032459080615752, 2.037162969112396)\n",
            "epoch 48 (2.0293691398827836, 2.045000367164612)\n",
            "epoch 49 (2.0266780184536444, 2.0375460958480835)\n"
          ]
        },
        {
          "output_type": "display_data",
          "data": {
            "text/plain": [
              "<Figure size 432x288 with 1 Axes>"
            ],
            "image/png": "[encoded data removed]"
          },
          "metadata": {
            "needs_background": "light"
          }
        }
      ]
    },
    {
      "cell_type": "markdown",
      "source": [
        "Sample from the model to generate a batch of names!\n",
        "- there are more complicated algorithms like beam search that might yield better results, I just used a simple greedy method here."
      ],
      "metadata": {
        "id": "24l80P2ezu5_"
      }
    },
    {
      "cell_type": "code",
      "source": [
        "# generates batch of names by sampling from model\n",
        "max_name_len = 15\n",
        "\n",
        "softmax = torch.nn.Softmax(dim=2)\n",
        "indices = torch.tensor([vocab.stoi[\".\"]] * 64).view(64,1).to(device)\n",
        "X = torch.nn.functional.one_hot(indices, len(vocab)).to(device)\n",
        "with torch.no_grad():\n",
        "  for i in range(max_name_len):\n",
        "    X = torch.nn.functional.one_hot(indices, len(vocab)).float().to(device)\n",
        "\n",
        "    logits = model(X)\n",
        "    probs = softmax(logits)\n",
        "    \n",
        "    samples = torch.multinomial(probs[:,-1,:].view(64, -1), 1, replacement=True)\n",
        "    indices = torch.concat((indices, samples),dim=1)\n",
        "\n",
        "for i in range(indices.shape[0]):\n",
        "  s = \"\"\n",
        "  for j in range(1,indices.shape[1]):\n",
        "    char = vocab.itos[indices[i][j].item()]\n",
        "    if char == \".\":\n",
        "      break\n",
        "    s += char\n",
        "  print(s)"
      ],
      "metadata": {
        "colab": {
          "base_uri": "https://localhost:8080/"
        },
        "id": "eAnQZn3NoGNy",
        "outputId": "6db379b6-b900-45ee-dd65-ee174223bbc1"
      },
      "execution_count": 13,
      "outputs": [
        {
          "output_type": "stream",
          "name": "stdout",
          "text": [
            "kaseri\n",
            "hanna\n",
            "zeve\n",
            "tyneli\n",
            "matcy\n",
            "durianza\n",
            "mikris\n",
            "lorani\n",
            "rhily\n",
            "taisem\n",
            "vingei\n",
            "anaya\n",
            "baryon\n",
            "chritlei\n",
            "khasima\n",
            "alizie\n",
            "ariyah\n",
            "schaft\n",
            "lealton\n",
            "graret\n",
            "deni#ion\n",
            "riyase\n",
            "xahael\n",
            "maravion\n",
            "jeravioh\n",
            "naahm\n",
            "adyya\n",
            "jarmanie\n",
            "sahyla\n",
            "rozlin\n",
            "ellyne\n",
            "kyleanie\n",
            "kinna\n",
            "cyour\n",
            "quanson\n",
            "chansopomus\n",
            "natana\n",
            "jordo\n",
            "keluber\n",
            "hira\n",
            "zohim\n",
            "bark\n",
            "lanna\n",
            "tayisa\n",
            "kessin\n",
            "yerina\n",
            "khreen\n",
            "losvie\n",
            "mckly\n",
            "sorei\n",
            "saninyah\n",
            "breley\n",
            "makenlie\n",
            "aviya\n",
            "haime\n",
            "kainon\n",
            "audra\n",
            "mariah\n",
            "jayavia\n",
            "anio\n",
            "won\n",
            "coub\n",
            "\n",
            "jerem\n"
          ]
        }
      ]
    },
    {
      "cell_type": "markdown",
      "source": [
        "Autocomplete any name!\n",
        "- make sure to put the start/end token \".\" at the beginning"
      ],
      "metadata": {
        "id": "cL3Nu7wQ0hpP"
      }
    },
    {
      "cell_type": "code",
      "source": [
        "s = \".emm\"\n",
        "\n",
        "softmax = torch.nn.Softmax(dim=2)\n",
        "seq = torch.tensor([vocab.stoi[i] for i in s]).to(device)\n",
        "with torch.no_grad():\n",
        "  while not (seq[-1] == vocab.end_token_idx and len(seq) > 1):\n",
        "    X = torch.nn.functional.one_hot(seq.view(1,-1),num_classes=len(vocab)).float().to(device)\n",
        "\n",
        "    logits = model(X)\n",
        "\n",
        "    probs = softmax(logits)[0,seq.size(dim=0)-1]\n",
        "\n",
        "    sample = torch.multinomial(probs, 1, replacement=True)\n",
        "\n",
        "    seq = torch.concat((seq, sample))\n",
        "\n",
        "  chars = [vocab.itos[i.item()] for i in seq]\n",
        "  print(\"\".join(chars[1:-1]))"
      ],
      "metadata": {
        "colab": {
          "base_uri": "https://localhost:8080/"
        },
        "id": "G_72P37PORrK",
        "outputId": "9946cbd5-014d-43da-ae5d-0a913078e9f9"
      },
      "execution_count": 27,
      "outputs": [
        {
          "output_type": "stream",
          "name": "stdout",
          "text": [
            "emmerie\n"
          ]
        }
      ]
    },
    {
      "cell_type": "code",
      "source": [],
      "metadata": {
        "id": "ulOcfWz90VYs"
      },
      "execution_count": null,
      "outputs": []
    },
    {
      "cell_type": "markdown",
      "source": [],
      "metadata": {
        "id": "BGzyCh9UAlvR"
      }
    }
  ]
}